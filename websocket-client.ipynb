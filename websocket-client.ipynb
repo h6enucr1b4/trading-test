{
 "cells": [
  {
   "cell_type": "code",
   "execution_count": 64,
   "id": "6c290461",
   "metadata": {},
   "outputs": [],
   "source": [
    "import websocket\n",
    "import json\n",
    "import numpy\n",
    "import talib\n",
    "import pandas as pd"
   ]
  },
  {
   "cell_type": "code",
   "execution_count": 65,
   "id": "b31bb1bf",
   "metadata": {},
   "outputs": [],
   "source": [
    "cc = \"ethusdt\"\n",
    "interval = \"1m\"\n",
    "SOCKET =f'wss://stream.binance.com:9443/ws/{cc}@kline_{interval}'\n",
    "\n",
    "RSI_PERIOD = 6\n",
    "RSI_OVERBOUGHT = 70\n",
    "RSI_OVERSOLD = 30\n",
    "in_position = False\n",
    "\n",
    "closes = []"
   ]
  },
  {
   "cell_type": "code",
   "execution_count": 66,
   "id": "3e7dc248",
   "metadata": {},
   "outputs": [],
   "source": [
    "def on_error(ws, error):\n",
    "    print(error)\n",
    "    \n",
    "def on_close(ws):\n",
    "    print('closed connection')\n",
    "    \n",
    "def on_message(ws, message):\n",
    "    global in_position\n",
    "    json_message = json.loads(message)\n",
    "    candle = json_message['k']\n",
    "    is_candle_closed = candle['x']\n",
    "    date = pd.to_datetime(candle['t'], unit='ms')\n",
    "    open1 = candle['o']\n",
    "    close = candle['c']\n",
    "    high = candle['h']\n",
    "    low = candle['l']\n",
    "    if is_candle_closed:\n",
    "        print(f\"Date:{date}, Open:{open1}, Close:{close}, High:{high}, Low:{low}\")\n",
    "        print(in_position)\n",
    "        closes.append(float(close))\n",
    "        print(f\"closes:{closes}\")\n",
    "        if len(closes) >= RSI_PERIOD:\n",
    "            np_closes = numpy.array(closes)\n",
    "            print(f\"np_closes:{np_closes}\")\n",
    "            rsi = talib.RSI(np_closes, RSI_PERIOD)\n",
    "            print(f'rsi:{rsi}')\n",
    "            last_rsi = rsi[-1]\n",
    "            print(f'last_rsi:{last_rsi}')\n",
    "            if last_rsi > RSI_OVERBOUGHT:\n",
    "                print(\"last_rsi > 70\")\n",
    "                if in_position:\n",
    "                    print(\"Overbought! Sell! Sell! Sell!\")\n",
    "                    in_position = False\n",
    "                    print(f'point:{in_position}')\n",
    "                else:\n",
    "                    print(\"It is overbought, but we don't own any. Nothing to do.\")\n",
    "            if last_rsi < RSI_OVERSOLD:\n",
    "                print(\"last_rsi < 30\")\n",
    "                if in_position:\n",
    "                    print(\"It is oversold, but you already own it, nothing to do.\")\n",
    "                else:\n",
    "                    print(\"Oversold! Buy! Buy! Buy!\")\n",
    "                    in_position = True\n",
    "                    print(f'point:{in_position}')\n",
    "                    \n",
    "ws = websocket.WebSocketApp(SOCKET, on_close=on_close, on_message=on_message, on_error=on_error)"
   ]
  },
  {
   "cell_type": "code",
   "execution_count": 67,
   "id": "8da7bc8c",
   "metadata": {
    "collapsed": true
   },
   "outputs": [
    {
     "name": "stdout",
     "output_type": "stream",
     "text": [
      "Date:2021-08-25 06:10:00, Open:3209.99000000, Close:3205.25000000, High:3210.00000000, Low:3204.00000000\n",
      "False\n",
      "closes:[3205.25]\n",
      "Date:2021-08-25 06:11:00, Open:3205.25000000, Close:3205.18000000, High:3208.45000000, Low:3204.99000000\n",
      "False\n",
      "closes:[3205.25, 3205.18]\n",
      "Date:2021-08-25 06:12:00, Open:3205.19000000, Close:3205.96000000, High:3207.63000000, Low:3205.18000000\n",
      "False\n",
      "closes:[3205.25, 3205.18, 3205.96]\n",
      "Date:2021-08-25 06:13:00, Open:3205.96000000, Close:3206.14000000, High:3208.68000000, Low:3205.50000000\n",
      "False\n",
      "closes:[3205.25, 3205.18, 3205.96, 3206.14]\n",
      "Date:2021-08-25 06:14:00, Open:3206.14000000, Close:3210.99000000, High:3211.00000000, Low:3206.13000000\n",
      "False\n",
      "closes:[3205.25, 3205.18, 3205.96, 3206.14, 3210.99]\n",
      "Date:2021-08-25 06:15:00, Open:3210.99000000, Close:3206.52000000, High:3215.00000000, Low:3205.67000000\n",
      "False\n",
      "closes:[3205.25, 3205.18, 3205.96, 3206.14, 3210.99, 3206.52]\n",
      "np_closes:[3205.25 3205.18 3205.96 3206.14 3210.99 3206.52]\n",
      "rsi:[nan nan nan nan nan nan]\n",
      "last_rsi:nan\n",
      "Date:2021-08-25 06:16:00, Open:3206.51000000, Close:3205.51000000, High:3207.01000000, Low:3203.99000000\n",
      "False\n",
      "closes:[3205.25, 3205.18, 3205.96, 3206.14, 3210.99, 3206.52, 3205.51]\n",
      "np_closes:[3205.25 3205.18 3205.96 3206.14 3210.99 3206.52 3205.51]\n",
      "rsi:[       nan        nan        nan        nan        nan        nan\n",
      " 51.1443662]\n",
      "last_rsi:51.14436619718409\n",
      "Date:2021-08-25 06:17:00, Open:3205.52000000, Close:3206.26000000, High:3207.47000000, Low:3205.00000000\n",
      "False\n",
      "closes:[3205.25, 3205.18, 3205.96, 3206.14, 3210.99, 3206.52, 3205.51, 3206.26]\n",
      "np_closes:[3205.25 3205.18 3205.96 3206.14 3210.99 3206.52 3205.51 3206.26]\n",
      "rsi:[        nan         nan         nan         nan         nan         nan\n",
      " 51.1443662  54.73083197]\n",
      "last_rsi:54.73083197389988\n",
      "Date:2021-08-25 06:18:00, Open:3206.27000000, Close:3204.77000000, High:3208.22000000, Low:3204.18000000\n",
      "False\n",
      "closes:[3205.25, 3205.18, 3205.96, 3206.14, 3210.99, 3206.52, 3205.51, 3206.26, 3204.77]\n",
      "np_closes:[3205.25 3205.18 3205.96 3206.14 3210.99 3206.52 3205.51 3206.26 3204.77]\n",
      "rsi:[        nan         nan         nan         nan         nan         nan\n",
      " 51.1443662  54.73083197 46.57910812]\n",
      "last_rsi:46.57910812461778\n",
      "Date:2021-08-25 06:19:00, Open:3204.77000000, Close:3204.77000000, High:3205.84000000, Low:3204.00000000\n",
      "False\n",
      "closes:[3205.25, 3205.18, 3205.96, 3206.14, 3210.99, 3206.52, 3205.51, 3206.26, 3204.77, 3204.77]\n",
      "np_closes:[3205.25 3205.18 3205.96 3206.14 3210.99 3206.52 3205.51 3206.26 3204.77\n",
      " 3204.77]\n",
      "rsi:[        nan         nan         nan         nan         nan         nan\n",
      " 51.1443662  54.73083197 46.57910812 46.57910812]\n",
      "last_rsi:46.57910812461778\n",
      "Date:2021-08-25 06:20:00, Open:3204.78000000, Close:3202.39000000, High:3204.93000000, Low:3201.89000000\n",
      "False\n",
      "closes:[3205.25, 3205.18, 3205.96, 3206.14, 3210.99, 3206.52, 3205.51, 3206.26, 3204.77, 3204.77, 3202.39]\n",
      "np_closes:[3205.25 3205.18 3205.96 3206.14 3210.99 3206.52 3205.51 3206.26 3204.77\n",
      " 3204.77 3202.39]\n",
      "rsi:[        nan         nan         nan         nan         nan         nan\n",
      " 51.1443662  54.73083197 46.57910812 46.57910812 34.69355509]\n",
      "last_rsi:34.6935550852989\n",
      "Date:2021-08-25 06:21:00, Open:3202.40000000, Close:3200.20000000, High:3202.82000000, Low:3200.20000000\n",
      "False\n",
      "closes:[3205.25, 3205.18, 3205.96, 3206.14, 3210.99, 3206.52, 3205.51, 3206.26, 3204.77, 3204.77, 3202.39, 3200.2]\n",
      "np_closes:[3205.25 3205.18 3205.96 3206.14 3210.99 3206.52 3205.51 3206.26 3204.77\n",
      " 3204.77 3202.39 3200.2 ]\n",
      "rsi:[        nan         nan         nan         nan         nan         nan\n",
      " 51.1443662  54.73083197 46.57910812 46.57910812 34.69355509 27.06715973]\n",
      "last_rsi:27.06715973054567\n",
      "last_rsi < 30\n",
      "Oversold! Buy! Buy! Buy!\n",
      "point:True\n",
      "\n",
      "on_close() takes 1 positional argument but 3 were given\n"
     ]
    },
    {
     "data": {
      "text/plain": [
       "False"
      ]
     },
     "execution_count": 67,
     "metadata": {},
     "output_type": "execute_result"
    }
   ],
   "source": [
    "ws.run_forever()"
   ]
  },
  {
   "cell_type": "code",
   "execution_count": null,
   "id": "34e116f0",
   "metadata": {},
   "outputs": [],
   "source": []
  }
 ],
 "metadata": {
  "kernelspec": {
   "display_name": "Python 3",
   "language": "python",
   "name": "python3"
  },
  "language_info": {
   "codemirror_mode": {
    "name": "ipython",
    "version": 3
   },
   "file_extension": ".py",
   "mimetype": "text/x-python",
   "name": "python",
   "nbconvert_exporter": "python",
   "pygments_lexer": "ipython3",
   "version": "3.8.11"
  }
 },
 "nbformat": 4,
 "nbformat_minor": 5
}
