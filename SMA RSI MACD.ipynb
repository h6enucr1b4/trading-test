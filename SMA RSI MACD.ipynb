{
 "cells": [
  {
   "cell_type": "code",
   "execution_count": 1,
   "id": "16377798",
   "metadata": {
    "scrolled": true
   },
   "outputs": [],
   "source": [
    "import btalib\n",
    "import pandas as pd"
   ]
  },
  {
   "cell_type": "markdown",
   "id": "a014fd43",
   "metadata": {},
   "source": [
    "呼叫歷史資料&計算20SMA"
   ]
  },
  {
   "cell_type": "code",
   "execution_count": 2,
   "id": "649b103a",
   "metadata": {},
   "outputs": [
    {
     "name": "stdout",
     "output_type": "stream",
     "text": [
      "                      open   high    low  close     20sma\n",
      "date                                                     \n",
      "2021-08-26 04:00:00  900.0  900.0  900.0  900.0  735.6655\n",
      "2021-08-26 05:00:00  900.0  900.0  900.0  900.0  735.6655\n",
      "2021-08-26 06:00:00  900.0  900.0  900.0  900.0  735.6655\n",
      "2021-08-26 07:00:00  900.0  900.0  900.0  900.0  735.6655\n"
     ]
    }
   ],
   "source": [
    "btc_df = pd.read_csv('btc_bars3.csv', index_col=0)\n",
    "btc_df.index = pd.to_datetime(btc_df.index, unit='ms')\n",
    "\n",
    "btc_df['20sma'] = btc_df.close.rolling(20).mean()\n",
    "print(btc_df.tail(4))"
   ]
  },
  {
   "cell_type": "code",
   "execution_count": 3,
   "id": "94c1bc93",
   "metadata": {},
   "outputs": [
    {
     "name": "stdout",
     "output_type": "stream",
     "text": [
      "735.6655\n"
     ]
    }
   ],
   "source": [
    "mean = btc_df.close.tail(20).mean()\n",
    "print(mean)"
   ]
  },
  {
   "cell_type": "code",
   "execution_count": 4,
   "id": "81bc57ba",
   "metadata": {},
   "outputs": [
    {
     "name": "stdout",
     "output_type": "stream",
     "text": [
      "2543.14\n"
     ]
    }
   ],
   "source": [
    "max_val = btc_df.close['2021'].max()\n",
    "print(max_val)"
   ]
  },
  {
   "cell_type": "code",
   "execution_count": 5,
   "id": "9a6a7cd3",
   "metadata": {},
   "outputs": [
    {
     "name": "stdout",
     "output_type": "stream",
     "text": [
      "                            sma\n",
      "date                           \n",
      "2021-07-30 09:00:00         NaN\n",
      "2021-07-30 10:00:00         NaN\n",
      "2021-07-30 11:00:00         NaN\n",
      "2021-07-30 12:00:00         NaN\n",
      "2021-07-30 13:00:00         NaN\n",
      "...                         ...\n",
      "2021-08-26 03:00:00  713.110000\n",
      "2021-08-26 04:00:00  715.110000\n",
      "2021-08-26 05:00:00  717.110000\n",
      "2021-08-26 06:00:00  740.443333\n",
      "2021-08-26 07:00:00  760.443333\n",
      "\n",
      "[647 rows x 1 columns]\n"
     ]
    }
   ],
   "source": [
    "sma = btalib.sma(btc_df.close)\n",
    "print(sma.df)"
   ]
  },
  {
   "cell_type": "code",
   "execution_count": 6,
   "id": "138e1e3e",
   "metadata": {},
   "outputs": [
    {
     "name": "stdout",
     "output_type": "stream",
     "text": [
      "                      open   high    low  close     20sma       sma\n",
      "date                                                               \n",
      "2021-08-26 03:00:00  900.0  900.0  900.0  900.0  735.6655  735.6655\n",
      "2021-08-26 04:00:00  900.0  900.0  900.0  900.0  735.6655  735.6655\n",
      "2021-08-26 05:00:00  900.0  900.0  900.0  900.0  735.6655  735.6655\n",
      "2021-08-26 06:00:00  900.0  900.0  900.0  900.0  735.6655  735.6655\n",
      "2021-08-26 07:00:00  900.0  900.0  900.0  900.0  735.6655  735.6655\n"
     ]
    }
   ],
   "source": [
    "# create sma and attach as column to original df\n",
    "btc_df['sma'] = btalib.sma(btc_df.close, period=20).df\n",
    "print(btc_df.tail())"
   ]
  },
  {
   "cell_type": "code",
   "execution_count": 7,
   "id": "111c00c7",
   "metadata": {},
   "outputs": [],
   "source": [
    "rsi = btalib.rsi(btc_df, period=14)"
   ]
  },
  {
   "cell_type": "code",
   "execution_count": 8,
   "id": "b516340e",
   "metadata": {},
   "outputs": [
    {
     "name": "stdout",
     "output_type": "stream",
     "text": [
      "54.23669901717348\n"
     ]
    }
   ],
   "source": [
    "print(rsi.df.rsi[-1])"
   ]
  },
  {
   "cell_type": "code",
   "execution_count": 9,
   "id": "2c4df5b0",
   "metadata": {},
   "outputs": [],
   "source": [
    "macd = btalib.macd(btc_df, pfast=20, pslow=50, psignal=13)"
   ]
  },
  {
   "cell_type": "code",
   "execution_count": 10,
   "id": "091e721c",
   "metadata": {
    "scrolled": true
   },
   "outputs": [
    {
     "name": "stdout",
     "output_type": "stream",
     "text": [
      "                      open   high    low  close     20sma       sma  \\\n",
      "date                                                                  \n",
      "2021-08-26 03:00:00  900.0  900.0  900.0  900.0  735.6655  735.6655   \n",
      "2021-08-26 04:00:00  900.0  900.0  900.0  900.0  735.6655  735.6655   \n",
      "2021-08-26 05:00:00  900.0  900.0  900.0  900.0  735.6655  735.6655   \n",
      "2021-08-26 06:00:00  900.0  900.0  900.0  900.0  735.6655  735.6655   \n",
      "2021-08-26 07:00:00  900.0  900.0  900.0  900.0  735.6655  735.6655   \n",
      "\n",
      "                           rsi       macd     signal  histogram  \n",
      "date                                                             \n",
      "2021-08-26 03:00:00  54.236699 -52.883776 -95.346962  42.463186  \n",
      "2021-08-26 04:00:00  54.236699 -43.000117 -87.868842  44.868725  \n",
      "2021-08-26 05:00:00  54.236699 -34.247841 -80.208699  45.960858  \n",
      "2021-08-26 06:00:00  54.236699 -26.511743 -72.537705  46.025962  \n",
      "2021-08-26 07:00:00  54.236699 -19.687884 -64.987730  45.299847  \n"
     ]
    }
   ],
   "source": [
    "# join the rsi and macd calculations as columns in original df\n",
    "btc_df = btc_df.join([rsi.df, macd.df])\n",
    "print(btc_df.tail())"
   ]
  },
  {
   "cell_type": "code",
   "execution_count": null,
   "id": "94cecc39",
   "metadata": {},
   "outputs": [],
   "source": []
  }
 ],
 "metadata": {
  "kernelspec": {
   "display_name": "Python 3",
   "language": "python",
   "name": "python3"
  },
  "language_info": {
   "codemirror_mode": {
    "name": "ipython",
    "version": 3
   },
   "file_extension": ".py",
   "mimetype": "text/x-python",
   "name": "python",
   "nbconvert_exporter": "python",
   "pygments_lexer": "ipython3",
   "version": "3.8.11"
  }
 },
 "nbformat": 4,
 "nbformat_minor": 5
}
