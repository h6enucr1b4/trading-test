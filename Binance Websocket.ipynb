{
 "cells": [
  {
   "cell_type": "code",
   "execution_count": 5,
   "id": "7079dfe2",
   "metadata": {},
   "outputs": [],
   "source": [
    "from binance import ThreadedWebsocketManager\n",
    "\n",
    "api_key = \"你的測試api_key\"\n",
    "api_secret = \"你的測試api_secret\""
   ]
  },
  {
   "cell_type": "code",
   "execution_count": 6,
   "id": "f867af34",
   "metadata": {},
   "outputs": [],
   "source": [
    "symbol = 'BTCUSDT'\n",
    "\n",
    "twm = ThreadedWebsocketManager(api_key=api_key, api_secret=api_secret)\n",
    "    # start is required to initialise its internal loop\n",
    "twm.start()\n",
    "\n",
    "def handle_socket_message(msg):\n",
    "    print(f\"message type: {msg['e']}\")\n",
    "    print(msg)"
   ]
  },
  {
   "cell_type": "code",
   "execution_count": 7,
   "id": "7f23ddda",
   "metadata": {},
   "outputs": [
    {
     "data": {
      "text/plain": [
       "'btcusdt@kline_1m'"
      ]
     },
     "execution_count": 7,
     "metadata": {},
     "output_type": "execute_result"
    },
    {
     "name": "stdout",
     "output_type": "stream",
     "text": [
      "message type: kline\n",
      "{'e': 'kline', 'E': 1629955630223, 's': 'BTCUSDT', 'k': {'t': 1629955620000, 'T': 1629955679999, 's': 'BTCUSDT', 'i': '1m', 'f': 1025450623, 'L': 1025451468, 'o': '47562.22000000', 'c': '47510.99000000', 'h': '47567.47000000', 'l': '47507.00000000', 'v': '27.87844700', 'n': 846, 'x': False, 'q': '1325107.70624180', 'V': '3.63531700', 'Q': '172778.04170109', 'B': '0'}}\n",
      "message type: kline\n",
      "{'e': 'kline', 'E': 1629955632231, 's': 'BTCUSDT', 'k': {'t': 1629955620000, 'T': 1629955679999, 's': 'BTCUSDT', 'i': '1m', 'f': 1025450623, 'L': 1025451604, 'o': '47562.22000000', 'c': '47506.00000000', 'h': '47567.47000000', 'l': '47506.00000000', 'v': '34.51777400', 'n': 982, 'x': False, 'q': '1640529.56653194', 'V': '6.96409900', 'Q': '330919.19836724', 'B': '0'}}\n",
      "message type: kline\n",
      "{'e': 'kline', 'E': 1629955634253, 's': 'BTCUSDT', 'k': {'t': 1629955620000, 'T': 1629955679999, 's': 'BTCUSDT', 'i': '1m', 'f': 1025450623, 'L': 1025451763, 'o': '47562.22000000', 'c': '47501.01000000', 'h': '47567.47000000', 'l': '47501.00000000', 'v': '38.71868700', 'n': 1141, 'x': False, 'q': '1840093.68410326', 'V': '9.22411800', 'Q': '438282.75473850', 'B': '0'}}\n",
      "message type: kline\n",
      "{'e': 'kline', 'E': 1629955636322, 's': 'BTCUSDT', 'k': {'t': 1629955620000, 'T': 1629955679999, 's': 'BTCUSDT', 'i': '1m', 'f': 1025450623, 'L': 1025452078, 'o': '47562.22000000', 'c': '47526.99000000', 'h': '47567.47000000', 'l': '47501.00000000', 'v': '40.88886200', 'n': 1456, 'x': False, 'q': '1943201.28772791', 'V': '11.16053000', 'Q': '530281.97995652', 'B': '0'}}\n"
     ]
    }
   ],
   "source": [
    "twm.start_kline_socket(callback=handle_socket_message, symbol=symbol)"
   ]
  },
  {
   "cell_type": "code",
   "execution_count": 8,
   "id": "cfe5cb6e",
   "metadata": {
    "scrolled": true
   },
   "outputs": [
    {
     "name": "stdout",
     "output_type": "stream",
     "text": [
      "message type: kline\n",
      "{'e': 'kline', 'E': 1629955640401, 's': 'BTCUSDT', 'k': {'t': 1629955620000, 'T': 1629955679999, 's': 'BTCUSDT', 'i': '1m', 'f': 1025450623, 'L': 1025452321, 'o': '47562.22000000', 'c': '47508.20000000', 'h': '47567.47000000', 'l': '47500.06000000', 'v': '49.69587300', 'n': 1699, 'x': False, 'q': '2361637.01309273', 'V': '12.56902000', 'Q': '597208.78520229', 'B': '0'}}\n"
     ]
    }
   ],
   "source": [
    "twm.stop()"
   ]
  },
  {
   "cell_type": "code",
   "execution_count": null,
   "id": "1c9a6c23",
   "metadata": {},
   "outputs": [],
   "source": []
  }
 ],
 "metadata": {
  "kernelspec": {
   "display_name": "Python 3",
   "language": "python",
   "name": "python3"
  },
  "language_info": {
   "codemirror_mode": {
    "name": "ipython",
    "version": 3
   },
   "file_extension": ".py",
   "mimetype": "text/x-python",
   "name": "python",
   "nbconvert_exporter": "python",
   "pygments_lexer": "ipython3",
   "version": "3.8.11"
  }
 },
 "nbformat": 4,
 "nbformat_minor": 5
}
