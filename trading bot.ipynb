{
 "cells": [
  {
   "cell_type": "code",
   "execution_count": 1,
   "id": "9a877324",
   "metadata": {},
   "outputs": [],
   "source": [
    "from binance.client import Client\n",
    "from binance.enums import *\n",
    "from binance import ThreadedWebsocketManager\n",
    "from binance.exceptions import BinanceAPIException, BinanceOrderException\n",
    "from time import sleep"
   ]
  },
  {
   "cell_type": "code",
   "execution_count": 2,
   "id": "8bb012af",
   "metadata": {},
   "outputs": [],
   "source": [
    "api_key = '你的測試api_key'\n",
    "api_secret = '你的測試api_secret'\n",
    "\n",
    "client = Client(api_key, api_secret)\n",
    "\n",
    "client.API_URL = 'https://testnet.binance.vision/api'"
   ]
  },
  {
   "cell_type": "code",
   "execution_count": 4,
   "id": "ec270604",
   "metadata": {},
   "outputs": [
    {
     "name": "stdout",
     "output_type": "stream",
     "text": [
      "{'asset': 'USDT', 'free': '2777.26647600', 'locked': '0.00000000'}\n"
     ]
    }
   ],
   "source": [
    "balance = client.get_asset_balance(asset='USDT')\n",
    "print(balance)"
   ]
  },
  {
   "cell_type": "code",
   "execution_count": 10,
   "id": "2371217c",
   "metadata": {
    "scrolled": false
   },
   "outputs": [
    {
     "name": "stdout",
     "output_type": "stream",
     "text": [
      "{'symbol': 'ETHUSDT', 'orderId': 25222, 'orderListId': -1, 'clientOrderId': 'qRt76af4d220L9HEDBXcSY', 'transactTime': 1629855021149, 'price': '3000.00000000', 'origQty': '1.00000000', 'executedQty': '0.00000000', 'cummulativeQuoteQty': '0.00000000', 'status': 'NEW', 'timeInForce': 'GTC', 'type': 'LIMIT', 'side': 'SELL', 'fills': []}\n"
     ]
    }
   ],
   "source": [
    "try:\n",
    "    buy_limit = client.create_order(\n",
    "        symbol='ETHUSDT',\n",
    "        side=SIDE_SELL ,\n",
    "        type=ORDER_TYPE_LIMIT,\n",
    "        timeInForce=TIME_IN_FORCE_GTC,\n",
    "        quantity=1,\n",
    "        price=3000)\n",
    "    print(buy_limit)\n",
    "except BinanceAPIException as e:\n",
    "    # error handling goes here\n",
    "    print(e)\n",
    "except BinanceOrderException as e:\n",
    "    # error handling goes here\n",
    "    print(e)"
   ]
  },
  {
   "cell_type": "code",
   "execution_count": 6,
   "id": "d6610523",
   "metadata": {
    "collapsed": true
   },
   "outputs": [
    {
     "ename": "BinanceAPIException",
     "evalue": "APIError(code=-2010): Account has insufficient balance for requested action.",
     "output_type": "error",
     "traceback": [
      "\u001b[1;31m---------------------------------------------------------------------------\u001b[0m",
      "\u001b[1;31mBinanceAPIException\u001b[0m                       Traceback (most recent call last)",
      "\u001b[1;32m<ipython-input-6-7af22fa62ffc>\u001b[0m in \u001b[0;36m<module>\u001b[1;34m\u001b[0m\n\u001b[0;32m      1\u001b[0m \u001b[1;32mfrom\u001b[0m \u001b[0mbinance\u001b[0m\u001b[1;33m.\u001b[0m\u001b[0menums\u001b[0m \u001b[1;32mimport\u001b[0m \u001b[1;33m*\u001b[0m\u001b[1;33m\u001b[0m\u001b[1;33m\u001b[0m\u001b[0m\n\u001b[1;32m----> 2\u001b[1;33m order = client.create_order(\n\u001b[0m\u001b[0;32m      3\u001b[0m     \u001b[0msymbol\u001b[0m\u001b[1;33m=\u001b[0m\u001b[1;34m'ETHUSDT'\u001b[0m\u001b[1;33m,\u001b[0m\u001b[1;33m\u001b[0m\u001b[1;33m\u001b[0m\u001b[0m\n\u001b[0;32m      4\u001b[0m     \u001b[0mside\u001b[0m\u001b[1;33m=\u001b[0m\u001b[0mSIDE_BUY\u001b[0m\u001b[1;33m,\u001b[0m\u001b[1;33m\u001b[0m\u001b[1;33m\u001b[0m\u001b[0m\n\u001b[0;32m      5\u001b[0m     \u001b[0mtype\u001b[0m\u001b[1;33m=\u001b[0m\u001b[0mORDER_TYPE_LIMIT\u001b[0m\u001b[1;33m,\u001b[0m\u001b[1;33m\u001b[0m\u001b[1;33m\u001b[0m\u001b[0m\n",
      "\u001b[1;32m~\\anaconda3\\envs\\tradingbot\\lib\\site-packages\\binance\\client.py\u001b[0m in \u001b[0;36mcreate_order\u001b[1;34m(self, **params)\u001b[0m\n\u001b[0;32m   1385\u001b[0m \u001b[1;33m\u001b[0m\u001b[0m\n\u001b[0;32m   1386\u001b[0m         \"\"\"\n\u001b[1;32m-> 1387\u001b[1;33m         \u001b[1;32mreturn\u001b[0m \u001b[0mself\u001b[0m\u001b[1;33m.\u001b[0m\u001b[0m_post\u001b[0m\u001b[1;33m(\u001b[0m\u001b[1;34m'order'\u001b[0m\u001b[1;33m,\u001b[0m \u001b[1;32mTrue\u001b[0m\u001b[1;33m,\u001b[0m \u001b[0mdata\u001b[0m\u001b[1;33m=\u001b[0m\u001b[0mparams\u001b[0m\u001b[1;33m)\u001b[0m\u001b[1;33m\u001b[0m\u001b[1;33m\u001b[0m\u001b[0m\n\u001b[0m\u001b[0;32m   1388\u001b[0m \u001b[1;33m\u001b[0m\u001b[0m\n\u001b[0;32m   1389\u001b[0m     \u001b[1;32mdef\u001b[0m \u001b[0morder_limit\u001b[0m\u001b[1;33m(\u001b[0m\u001b[0mself\u001b[0m\u001b[1;33m,\u001b[0m \u001b[0mtimeInForce\u001b[0m\u001b[1;33m=\u001b[0m\u001b[0mBaseClient\u001b[0m\u001b[1;33m.\u001b[0m\u001b[0mTIME_IN_FORCE_GTC\u001b[0m\u001b[1;33m,\u001b[0m \u001b[1;33m**\u001b[0m\u001b[0mparams\u001b[0m\u001b[1;33m)\u001b[0m\u001b[1;33m:\u001b[0m\u001b[1;33m\u001b[0m\u001b[1;33m\u001b[0m\u001b[0m\n",
      "\u001b[1;32m~\\anaconda3\\envs\\tradingbot\\lib\\site-packages\\binance\\client.py\u001b[0m in \u001b[0;36m_post\u001b[1;34m(self, path, signed, version, **kwargs)\u001b[0m\n\u001b[0;32m    372\u001b[0m \u001b[1;33m\u001b[0m\u001b[0m\n\u001b[0;32m    373\u001b[0m     \u001b[1;32mdef\u001b[0m \u001b[0m_post\u001b[0m\u001b[1;33m(\u001b[0m\u001b[0mself\u001b[0m\u001b[1;33m,\u001b[0m \u001b[0mpath\u001b[0m\u001b[1;33m,\u001b[0m \u001b[0msigned\u001b[0m\u001b[1;33m=\u001b[0m\u001b[1;32mFalse\u001b[0m\u001b[1;33m,\u001b[0m \u001b[0mversion\u001b[0m\u001b[1;33m=\u001b[0m\u001b[0mBaseClient\u001b[0m\u001b[1;33m.\u001b[0m\u001b[0mPUBLIC_API_VERSION\u001b[0m\u001b[1;33m,\u001b[0m \u001b[1;33m**\u001b[0m\u001b[0mkwargs\u001b[0m\u001b[1;33m)\u001b[0m \u001b[1;33m->\u001b[0m \u001b[0mDict\u001b[0m\u001b[1;33m:\u001b[0m\u001b[1;33m\u001b[0m\u001b[1;33m\u001b[0m\u001b[0m\n\u001b[1;32m--> 374\u001b[1;33m         \u001b[1;32mreturn\u001b[0m \u001b[0mself\u001b[0m\u001b[1;33m.\u001b[0m\u001b[0m_request_api\u001b[0m\u001b[1;33m(\u001b[0m\u001b[1;34m'post'\u001b[0m\u001b[1;33m,\u001b[0m \u001b[0mpath\u001b[0m\u001b[1;33m,\u001b[0m \u001b[0msigned\u001b[0m\u001b[1;33m,\u001b[0m \u001b[0mversion\u001b[0m\u001b[1;33m,\u001b[0m \u001b[1;33m**\u001b[0m\u001b[0mkwargs\u001b[0m\u001b[1;33m)\u001b[0m\u001b[1;33m\u001b[0m\u001b[1;33m\u001b[0m\u001b[0m\n\u001b[0m\u001b[0;32m    375\u001b[0m \u001b[1;33m\u001b[0m\u001b[0m\n\u001b[0;32m    376\u001b[0m     \u001b[1;32mdef\u001b[0m \u001b[0m_put\u001b[0m\u001b[1;33m(\u001b[0m\u001b[0mself\u001b[0m\u001b[1;33m,\u001b[0m \u001b[0mpath\u001b[0m\u001b[1;33m,\u001b[0m \u001b[0msigned\u001b[0m\u001b[1;33m=\u001b[0m\u001b[1;32mFalse\u001b[0m\u001b[1;33m,\u001b[0m \u001b[0mversion\u001b[0m\u001b[1;33m=\u001b[0m\u001b[0mBaseClient\u001b[0m\u001b[1;33m.\u001b[0m\u001b[0mPUBLIC_API_VERSION\u001b[0m\u001b[1;33m,\u001b[0m \u001b[1;33m**\u001b[0m\u001b[0mkwargs\u001b[0m\u001b[1;33m)\u001b[0m \u001b[1;33m->\u001b[0m \u001b[0mDict\u001b[0m\u001b[1;33m:\u001b[0m\u001b[1;33m\u001b[0m\u001b[1;33m\u001b[0m\u001b[0m\n",
      "\u001b[1;32m~\\anaconda3\\envs\\tradingbot\\lib\\site-packages\\binance\\client.py\u001b[0m in \u001b[0;36m_request_api\u001b[1;34m(self, method, path, signed, version, **kwargs)\u001b[0m\n\u001b[0;32m    332\u001b[0m     ):\n\u001b[0;32m    333\u001b[0m         \u001b[0muri\u001b[0m \u001b[1;33m=\u001b[0m \u001b[0mself\u001b[0m\u001b[1;33m.\u001b[0m\u001b[0m_create_api_uri\u001b[0m\u001b[1;33m(\u001b[0m\u001b[0mpath\u001b[0m\u001b[1;33m,\u001b[0m \u001b[0msigned\u001b[0m\u001b[1;33m,\u001b[0m \u001b[0mversion\u001b[0m\u001b[1;33m)\u001b[0m\u001b[1;33m\u001b[0m\u001b[1;33m\u001b[0m\u001b[0m\n\u001b[1;32m--> 334\u001b[1;33m         \u001b[1;32mreturn\u001b[0m \u001b[0mself\u001b[0m\u001b[1;33m.\u001b[0m\u001b[0m_request\u001b[0m\u001b[1;33m(\u001b[0m\u001b[0mmethod\u001b[0m\u001b[1;33m,\u001b[0m \u001b[0muri\u001b[0m\u001b[1;33m,\u001b[0m \u001b[0msigned\u001b[0m\u001b[1;33m,\u001b[0m \u001b[1;33m**\u001b[0m\u001b[0mkwargs\u001b[0m\u001b[1;33m)\u001b[0m\u001b[1;33m\u001b[0m\u001b[1;33m\u001b[0m\u001b[0m\n\u001b[0m\u001b[0;32m    335\u001b[0m \u001b[1;33m\u001b[0m\u001b[0m\n\u001b[0;32m    336\u001b[0m     \u001b[1;32mdef\u001b[0m \u001b[0m_request_futures_api\u001b[0m\u001b[1;33m(\u001b[0m\u001b[0mself\u001b[0m\u001b[1;33m,\u001b[0m \u001b[0mmethod\u001b[0m\u001b[1;33m,\u001b[0m \u001b[0mpath\u001b[0m\u001b[1;33m,\u001b[0m \u001b[0msigned\u001b[0m\u001b[1;33m=\u001b[0m\u001b[1;32mFalse\u001b[0m\u001b[1;33m,\u001b[0m \u001b[1;33m**\u001b[0m\u001b[0mkwargs\u001b[0m\u001b[1;33m)\u001b[0m \u001b[1;33m->\u001b[0m \u001b[0mDict\u001b[0m\u001b[1;33m:\u001b[0m\u001b[1;33m\u001b[0m\u001b[1;33m\u001b[0m\u001b[0m\n",
      "\u001b[1;32m~\\anaconda3\\envs\\tradingbot\\lib\\site-packages\\binance\\client.py\u001b[0m in \u001b[0;36m_request\u001b[1;34m(self, method, uri, signed, force_params, **kwargs)\u001b[0m\n\u001b[0;32m    313\u001b[0m \u001b[1;33m\u001b[0m\u001b[0m\n\u001b[0;32m    314\u001b[0m         \u001b[0mself\u001b[0m\u001b[1;33m.\u001b[0m\u001b[0mresponse\u001b[0m \u001b[1;33m=\u001b[0m \u001b[0mgetattr\u001b[0m\u001b[1;33m(\u001b[0m\u001b[0mself\u001b[0m\u001b[1;33m.\u001b[0m\u001b[0msession\u001b[0m\u001b[1;33m,\u001b[0m \u001b[0mmethod\u001b[0m\u001b[1;33m)\u001b[0m\u001b[1;33m(\u001b[0m\u001b[0muri\u001b[0m\u001b[1;33m,\u001b[0m \u001b[1;33m**\u001b[0m\u001b[0mkwargs\u001b[0m\u001b[1;33m)\u001b[0m\u001b[1;33m\u001b[0m\u001b[1;33m\u001b[0m\u001b[0m\n\u001b[1;32m--> 315\u001b[1;33m         \u001b[1;32mreturn\u001b[0m \u001b[0mself\u001b[0m\u001b[1;33m.\u001b[0m\u001b[0m_handle_response\u001b[0m\u001b[1;33m(\u001b[0m\u001b[0mself\u001b[0m\u001b[1;33m.\u001b[0m\u001b[0mresponse\u001b[0m\u001b[1;33m)\u001b[0m\u001b[1;33m\u001b[0m\u001b[1;33m\u001b[0m\u001b[0m\n\u001b[0m\u001b[0;32m    316\u001b[0m \u001b[1;33m\u001b[0m\u001b[0m\n\u001b[0;32m    317\u001b[0m     \u001b[1;33m@\u001b[0m\u001b[0mstaticmethod\u001b[0m\u001b[1;33m\u001b[0m\u001b[1;33m\u001b[0m\u001b[0m\n",
      "\u001b[1;32m~\\anaconda3\\envs\\tradingbot\\lib\\site-packages\\binance\\client.py\u001b[0m in \u001b[0;36m_handle_response\u001b[1;34m(response)\u001b[0m\n\u001b[0;32m    322\u001b[0m         \"\"\"\n\u001b[0;32m    323\u001b[0m         \u001b[1;32mif\u001b[0m \u001b[1;32mnot\u001b[0m \u001b[1;33m(\u001b[0m\u001b[1;36m200\u001b[0m \u001b[1;33m<=\u001b[0m \u001b[0mresponse\u001b[0m\u001b[1;33m.\u001b[0m\u001b[0mstatus_code\u001b[0m \u001b[1;33m<\u001b[0m \u001b[1;36m300\u001b[0m\u001b[1;33m)\u001b[0m\u001b[1;33m:\u001b[0m\u001b[1;33m\u001b[0m\u001b[1;33m\u001b[0m\u001b[0m\n\u001b[1;32m--> 324\u001b[1;33m             \u001b[1;32mraise\u001b[0m \u001b[0mBinanceAPIException\u001b[0m\u001b[1;33m(\u001b[0m\u001b[0mresponse\u001b[0m\u001b[1;33m,\u001b[0m \u001b[0mresponse\u001b[0m\u001b[1;33m.\u001b[0m\u001b[0mstatus_code\u001b[0m\u001b[1;33m,\u001b[0m \u001b[0mresponse\u001b[0m\u001b[1;33m.\u001b[0m\u001b[0mtext\u001b[0m\u001b[1;33m)\u001b[0m\u001b[1;33m\u001b[0m\u001b[1;33m\u001b[0m\u001b[0m\n\u001b[0m\u001b[0;32m    325\u001b[0m         \u001b[1;32mtry\u001b[0m\u001b[1;33m:\u001b[0m\u001b[1;33m\u001b[0m\u001b[1;33m\u001b[0m\u001b[0m\n\u001b[0;32m    326\u001b[0m             \u001b[1;32mreturn\u001b[0m \u001b[0mresponse\u001b[0m\u001b[1;33m.\u001b[0m\u001b[0mjson\u001b[0m\u001b[1;33m(\u001b[0m\u001b[1;33m)\u001b[0m\u001b[1;33m\u001b[0m\u001b[1;33m\u001b[0m\u001b[0m\n",
      "\u001b[1;31mBinanceAPIException\u001b[0m: APIError(code=-2010): Account has insufficient balance for requested action."
     ]
    }
   ],
   "source": [
    "from binance.enums import *\n",
    "order = client.create_order(\n",
    "    symbol='ETHUSDT',\n",
    "    side=SIDE_BUY,\n",
    "    type=ORDER_TYPE_LIMIT,\n",
    "    timeInForce=TIME_IN_FORCE_GTC,\n",
    "    quantity=1,\n",
    "    price=3338)"
   ]
  },
  {
   "cell_type": "code",
   "execution_count": 7,
   "id": "4e5941c7",
   "metadata": {},
   "outputs": [],
   "source": [
    "price = {'BTCUSDT': None, 'error': False}"
   ]
  },
  {
   "cell_type": "code",
   "execution_count": 11,
   "id": "81e24749",
   "metadata": {},
   "outputs": [],
   "source": [
    "def btc_pairs_trade(msg):\n",
    "    ''' define how to process incoming WebSocket messages '''\n",
    "    if msg['e'] != 'error':\n",
    "        price['BTCUSDT'] = float(msg['c'])\n",
    "    else:\n",
    "        price['error'] = True"
   ]
  },
  {
   "cell_type": "code",
   "execution_count": 12,
   "id": "c7ce9f0b",
   "metadata": {},
   "outputs": [
    {
     "data": {
      "text/plain": [
       "'btcusdt@ticker'"
      ]
     },
     "execution_count": 12,
     "metadata": {},
     "output_type": "execute_result"
    }
   ],
   "source": [
    "bsm = ThreadedWebsocketManager()\n",
    "bsm.start()\n",
    "bsm.start_symbol_ticker_socket(symbol='BTCUSDT', callback=btc_pairs_trade)"
   ]
  },
  {
   "cell_type": "code",
   "execution_count": 13,
   "id": "2d9b06a5",
   "metadata": {},
   "outputs": [],
   "source": [
    "while not price['BTCUSDT']:\n",
    "    # wait for WebSocket to start streaming data\n",
    "    sleep(0.1)"
   ]
  },
  {
   "cell_type": "code",
   "execution_count": 14,
   "id": "c078aa1f",
   "metadata": {},
   "outputs": [],
   "source": [
    "while True:\n",
    "    # error check to make sure WebSocket is working\n",
    "    if price['error']:\n",
    "        # stop and restart socket\n",
    "        bsm.stop()\n",
    "        sleep(2)\n",
    "        bsm.start()\n",
    "        price['error'] = False\n",
    "\n",
    "    else:\n",
    "        if price['BTCUSDT'] > 35000:\n",
    "            try:\n",
    "                order = client.order_market_buy(symbol='ETHUSDT', quantity=1)\n",
    "                break\n",
    "            except Exception as e:\n",
    "                print(e)\n",
    "\n",
    "    sleep(1)"
   ]
  },
  {
   "cell_type": "code",
   "execution_count": 15,
   "id": "14f3d341",
   "metadata": {},
   "outputs": [],
   "source": [
    "bsm.stop()"
   ]
  },
  {
   "cell_type": "code",
   "execution_count": 16,
   "id": "7f33c4a2",
   "metadata": {
    "collapsed": true
   },
   "outputs": [
    {
     "name": "stdout",
     "output_type": "stream",
     "text": [
      "[{'symbol': 'ETHUSDT', 'orderId': 22874, 'orderListId': -1, 'clientOrderId': 'npKYgxvJnQOIheH2fRJdek', 'price': '3338.00000000', 'origQty': '1.00000000', 'executedQty': '1.00000000', 'cummulativeQuoteQty': '989.00000000', 'status': 'FILLED', 'timeInForce': 'GTC', 'type': 'LIMIT', 'side': 'BUY', 'stopPrice': '0.00000000', 'icebergQty': '0.00000000', 'time': 1629691022123, 'updateTime': 1629691022123, 'isWorking': True, 'origQuoteOrderQty': '0.00000000'}, {'symbol': 'ETHUSDT', 'orderId': 22877, 'orderListId': -1, 'clientOrderId': 'BgKNVqFblUt0uxw0Xmle32', 'price': '3338.00000000', 'origQty': '1.00000000', 'executedQty': '1.00000000', 'cummulativeQuoteQty': '989.00000000', 'status': 'FILLED', 'timeInForce': 'GTC', 'type': 'LIMIT', 'side': 'BUY', 'stopPrice': '0.00000000', 'icebergQty': '0.00000000', 'time': 1629691088079, 'updateTime': 1629691088079, 'isWorking': True, 'origQuoteOrderQty': '0.00000000'}, {'symbol': 'ETHUSDT', 'orderId': 22878, 'orderListId': -1, 'clientOrderId': 'fESMBU1hAxwXEHTGXAteFS', 'price': '0.00000000', 'origQty': '1.00000000', 'executedQty': '1.00000000', 'cummulativeQuoteQty': '989.00000000', 'status': 'FILLED', 'timeInForce': 'GTC', 'type': 'MARKET', 'side': 'BUY', 'stopPrice': '0.00000000', 'icebergQty': '0.00000000', 'time': 1629691089446, 'updateTime': 1629691089446, 'isWorking': True, 'origQuoteOrderQty': '0.00000000'}, {'symbol': 'ETHUSDT', 'orderId': 22880, 'orderListId': -1, 'clientOrderId': 'SdQXn4FnkgpAsTpTahtYdf', 'price': '3338.00000000', 'origQty': '1.00000000', 'executedQty': '1.00000000', 'cummulativeQuoteQty': '989.00000000', 'status': 'FILLED', 'timeInForce': 'GTC', 'type': 'LIMIT', 'side': 'BUY', 'stopPrice': '0.00000000', 'icebergQty': '0.00000000', 'time': 1629691695846, 'updateTime': 1629691695846, 'isWorking': True, 'origQuoteOrderQty': '0.00000000'}, {'symbol': 'ETHUSDT', 'orderId': 22894, 'orderListId': -1, 'clientOrderId': 'J18sLNuZ8M1ey4NCpZYRkY', 'price': '3338.00000000', 'origQty': '1.00000000', 'executedQty': '1.00000000', 'cummulativeQuoteQty': '988.73352400', 'status': 'FILLED', 'timeInForce': 'GTC', 'type': 'LIMIT', 'side': 'BUY', 'stopPrice': '0.00000000', 'icebergQty': '0.00000000', 'time': 1629699032024, 'updateTime': 1629699032024, 'isWorking': True, 'origQuoteOrderQty': '0.00000000'}, {'symbol': 'ETHUSDT', 'orderId': 22897, 'orderListId': -1, 'clientOrderId': 'xJziQapNUytSzxTGekSebd', 'price': '3327.00000000', 'origQty': '1.00000000', 'executedQty': '1.00000000', 'cummulativeQuoteQty': '989.00000000', 'status': 'FILLED', 'timeInForce': 'GTC', 'type': 'LIMIT', 'side': 'BUY', 'stopPrice': '0.00000000', 'icebergQty': '0.00000000', 'time': 1629699519555, 'updateTime': 1629699519555, 'isWorking': True, 'origQuoteOrderQty': '0.00000000'}, {'symbol': 'ETHUSDT', 'orderId': 22898, 'orderListId': -1, 'clientOrderId': 'fksqDiPeVbRBUrTPyJvpmf', 'price': '3338.00000000', 'origQty': '1.00000000', 'executedQty': '1.00000000', 'cummulativeQuoteQty': '989.00000000', 'status': 'FILLED', 'timeInForce': 'GTC', 'type': 'LIMIT', 'side': 'BUY', 'stopPrice': '0.00000000', 'icebergQty': '0.00000000', 'time': 1629699527498, 'updateTime': 1629699527498, 'isWorking': True, 'origQuoteOrderQty': '0.00000000'}, {'symbol': 'ETHUSDT', 'orderId': 22899, 'orderListId': -1, 'clientOrderId': 'Zuq8BpFQR18icH3Cd9IMsS', 'price': '3327.00000000', 'origQty': '1.00000000', 'executedQty': '0.00000000', 'cummulativeQuoteQty': '0.00000000', 'status': 'NEW', 'timeInForce': 'GTC', 'type': 'LIMIT', 'side': 'SELL', 'stopPrice': '0.00000000', 'icebergQty': '0.00000000', 'time': 1629699735696, 'updateTime': 1629699735696, 'isWorking': True, 'origQuoteOrderQty': '0.00000000'}, {'symbol': 'ETHUSDT', 'orderId': 22900, 'orderListId': -1, 'clientOrderId': 'XYj0QzC7LaweoiYpOhkc7t', 'price': '3327.00000000', 'origQty': '1.00000000', 'executedQty': '0.00000000', 'cummulativeQuoteQty': '0.00000000', 'status': 'NEW', 'timeInForce': 'GTC', 'type': 'LIMIT', 'side': 'SELL', 'stopPrice': '0.00000000', 'icebergQty': '0.00000000', 'time': 1629699738492, 'updateTime': 1629699738492, 'isWorking': True, 'origQuoteOrderQty': '0.00000000'}, {'symbol': 'ETHUSDT', 'orderId': 22901, 'orderListId': -1, 'clientOrderId': 'qv1oUdmNcPV1cXNLUxzMaU', 'price': '3327.00000000', 'origQty': '1.00000000', 'executedQty': '0.00000000', 'cummulativeQuoteQty': '0.00000000', 'status': 'NEW', 'timeInForce': 'GTC', 'type': 'LIMIT', 'side': 'SELL', 'stopPrice': '0.00000000', 'icebergQty': '0.00000000', 'time': 1629699739008, 'updateTime': 1629699739008, 'isWorking': True, 'origQuoteOrderQty': '0.00000000'}, {'symbol': 'ETHUSDT', 'orderId': 22902, 'orderListId': -1, 'clientOrderId': 'LsUBIxbByZyXSC54zn5a3L', 'price': '3327.00000000', 'origQty': '1.00000000', 'executedQty': '0.00000000', 'cummulativeQuoteQty': '0.00000000', 'status': 'NEW', 'timeInForce': 'GTC', 'type': 'LIMIT', 'side': 'SELL', 'stopPrice': '0.00000000', 'icebergQty': '0.00000000', 'time': 1629699739439, 'updateTime': 1629699739439, 'isWorking': True, 'origQuoteOrderQty': '0.00000000'}, {'symbol': 'ETHUSDT', 'orderId': 22903, 'orderListId': -1, 'clientOrderId': 'pPjALhR8DBMoEoDnB9dja6', 'price': '3327.00000000', 'origQty': '1.00000000', 'executedQty': '0.00000000', 'cummulativeQuoteQty': '0.00000000', 'status': 'NEW', 'timeInForce': 'GTC', 'type': 'LIMIT', 'side': 'SELL', 'stopPrice': '0.00000000', 'icebergQty': '0.00000000', 'time': 1629699739866, 'updateTime': 1629699739866, 'isWorking': True, 'origQuoteOrderQty': '0.00000000'}, {'symbol': 'ETHUSDT', 'orderId': 22904, 'orderListId': -1, 'clientOrderId': 'skBGTjQWfvTeRInwef4zRO', 'price': '3327.00000000', 'origQty': '1.00000000', 'executedQty': '0.00000000', 'cummulativeQuoteQty': '0.00000000', 'status': 'NEW', 'timeInForce': 'GTC', 'type': 'LIMIT', 'side': 'SELL', 'stopPrice': '0.00000000', 'icebergQty': '0.00000000', 'time': 1629699742395, 'updateTime': 1629699742395, 'isWorking': True, 'origQuoteOrderQty': '0.00000000'}, {'symbol': 'ETHUSDT', 'orderId': 22905, 'orderListId': -1, 'clientOrderId': 'GV9KI6PdEou5gRgtsR9C9y', 'price': '3327.00000000', 'origQty': '1.00000000', 'executedQty': '0.00000000', 'cummulativeQuoteQty': '0.00000000', 'status': 'NEW', 'timeInForce': 'GTC', 'type': 'LIMIT', 'side': 'SELL', 'stopPrice': '0.00000000', 'icebergQty': '0.00000000', 'time': 1629699743536, 'updateTime': 1629699743536, 'isWorking': True, 'origQuoteOrderQty': '0.00000000'}, {'symbol': 'ETHUSDT', 'orderId': 22906, 'orderListId': -1, 'clientOrderId': 'kUKpYwJunvzGBRMC3uYWwB', 'price': '3327.00000000', 'origQty': '1.00000000', 'executedQty': '0.00000000', 'cummulativeQuoteQty': '0.00000000', 'status': 'NEW', 'timeInForce': 'GTC', 'type': 'LIMIT', 'side': 'SELL', 'stopPrice': '0.00000000', 'icebergQty': '0.00000000', 'time': 1629699743893, 'updateTime': 1629699743893, 'isWorking': True, 'origQuoteOrderQty': '0.00000000'}, {'symbol': 'ETHUSDT', 'orderId': 22907, 'orderListId': -1, 'clientOrderId': 'x4TskYxfeTABgIYMqZ71qC', 'price': '3327.00000000', 'origQty': '1.00000000', 'executedQty': '0.00000000', 'cummulativeQuoteQty': '0.00000000', 'status': 'NEW', 'timeInForce': 'GTC', 'type': 'LIMIT', 'side': 'SELL', 'stopPrice': '0.00000000', 'icebergQty': '0.00000000', 'time': 1629699744110, 'updateTime': 1629699744110, 'isWorking': True, 'origQuoteOrderQty': '0.00000000'}, {'symbol': 'ETHUSDT', 'orderId': 22908, 'orderListId': -1, 'clientOrderId': 'LeiDCxcIJYanaCSaicUsc2', 'price': '3327.00000000', 'origQty': '1.00000000', 'executedQty': '0.00000000', 'cummulativeQuoteQty': '0.00000000', 'status': 'NEW', 'timeInForce': 'GTC', 'type': 'LIMIT', 'side': 'SELL', 'stopPrice': '0.00000000', 'icebergQty': '0.00000000', 'time': 1629699744256, 'updateTime': 1629699744256, 'isWorking': True, 'origQuoteOrderQty': '0.00000000'}, {'symbol': 'ETHUSDT', 'orderId': 22909, 'orderListId': -1, 'clientOrderId': 'dCOC14PnzZxGDONISz3pJ2', 'price': '3327.00000000', 'origQty': '1.00000000', 'executedQty': '0.00000000', 'cummulativeQuoteQty': '0.00000000', 'status': 'NEW', 'timeInForce': 'GTC', 'type': 'LIMIT', 'side': 'SELL', 'stopPrice': '0.00000000', 'icebergQty': '0.00000000', 'time': 1629700078080, 'updateTime': 1629700078080, 'isWorking': True, 'origQuoteOrderQty': '0.00000000'}, {'symbol': 'ETHUSDT', 'orderId': 22912, 'orderListId': -1, 'clientOrderId': '1OrJG6U4e0YDFDWvnUDQed', 'price': '3000.00000000', 'origQty': '1.00000000', 'executedQty': '0.00000000', 'cummulativeQuoteQty': '0.00000000', 'status': 'NEW', 'timeInForce': 'GTC', 'type': 'LIMIT', 'side': 'SELL', 'stopPrice': '0.00000000', 'icebergQty': '0.00000000', 'time': 1629701411328, 'updateTime': 1629701411328, 'isWorking': True, 'origQuoteOrderQty': '0.00000000'}, {'symbol': 'ETHUSDT', 'orderId': 22914, 'orderListId': -1, 'clientOrderId': 'iFUDI0msCIXYRMqgbeogWh', 'price': '3000.00000000', 'origQty': '1.00000000', 'executedQty': '0.00000000', 'cummulativeQuoteQty': '0.00000000', 'status': 'NEW', 'timeInForce': 'GTC', 'type': 'LIMIT', 'side': 'SELL', 'stopPrice': '0.00000000', 'icebergQty': '0.00000000', 'time': 1629701419637, 'updateTime': 1629701419637, 'isWorking': True, 'origQuoteOrderQty': '0.00000000'}, {'symbol': 'ETHUSDT', 'orderId': 25220, 'orderListId': -1, 'clientOrderId': 'd7dz1IYW3UbxXlQMpf7BkX', 'price': '3000.00000000', 'origQty': '1.00000000', 'executedQty': '0.00000000', 'cummulativeQuoteQty': '0.00000000', 'status': 'NEW', 'timeInForce': 'GTC', 'type': 'LIMIT', 'side': 'SELL', 'stopPrice': '0.00000000', 'icebergQty': '0.00000000', 'time': 1629855008545, 'updateTime': 1629855008545, 'isWorking': True, 'origQuoteOrderQty': '0.00000000'}, {'symbol': 'ETHUSDT', 'orderId': 25221, 'orderListId': -1, 'clientOrderId': 'Da7areyVuaMx7flCOAFIki', 'price': '3000.00000000', 'origQty': '1.00000000', 'executedQty': '0.00000000', 'cummulativeQuoteQty': '0.00000000', 'status': 'NEW', 'timeInForce': 'GTC', 'type': 'LIMIT', 'side': 'SELL', 'stopPrice': '0.00000000', 'icebergQty': '0.00000000', 'time': 1629855015505, 'updateTime': 1629855015505, 'isWorking': True, 'origQuoteOrderQty': '0.00000000'}, {'symbol': 'ETHUSDT', 'orderId': 25222, 'orderListId': -1, 'clientOrderId': 'qRt76af4d220L9HEDBXcSY', 'price': '3000.00000000', 'origQty': '1.00000000', 'executedQty': '0.00000000', 'cummulativeQuoteQty': '0.00000000', 'status': 'NEW', 'timeInForce': 'GTC', 'type': 'LIMIT', 'side': 'SELL', 'stopPrice': '0.00000000', 'icebergQty': '0.00000000', 'time': 1629855021149, 'updateTime': 1629855021149, 'isWorking': True, 'origQuoteOrderQty': '0.00000000'}, {'symbol': 'ETHUSDT', 'orderId': 25223, 'orderListId': -1, 'clientOrderId': 'Fe3tJO0e8Jb0shp85HFXEI', 'price': '0.00000000', 'origQty': '1.00000000', 'executedQty': '1.00000000', 'cummulativeQuoteQty': '300.00000000', 'status': 'FILLED', 'timeInForce': 'GTC', 'type': 'MARKET', 'side': 'BUY', 'stopPrice': '0.00000000', 'icebergQty': '0.00000000', 'time': 1629855049073, 'updateTime': 1629855049073, 'isWorking': True, 'origQuoteOrderQty': '0.00000000'}]\n"
     ]
    }
   ],
   "source": [
    "orders = client.get_all_orders(symbol='ETHUSDT')\n",
    "print(orders)"
   ]
  }
 ],
 "metadata": {
  "kernelspec": {
   "display_name": "Python 3",
   "language": "python",
   "name": "python3"
  },
  "language_info": {
   "codemirror_mode": {
    "name": "ipython",
    "version": 3
   },
   "file_extension": ".py",
   "mimetype": "text/x-python",
   "name": "python",
   "nbconvert_exporter": "python",
   "pygments_lexer": "ipython3",
   "version": "3.8.11"
  }
 },
 "nbformat": 4,
 "nbformat_minor": 5
}
