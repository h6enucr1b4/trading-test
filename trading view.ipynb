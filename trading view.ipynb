{
 "cells": [
  {
   "cell_type": "code",
   "execution_count": 12,
   "id": "050f1b24",
   "metadata": {},
   "outputs": [],
   "source": [
    "from tradingview_ta import TA_Handler, Interval, Exchange\n",
    "import tradingview_ta"
   ]
  },
  {
   "cell_type": "code",
   "execution_count": 13,
   "id": "3405a6ee",
   "metadata": {},
   "outputs": [
    {
     "name": "stdout",
     "output_type": "stream",
     "text": [
      "3.2.7\n"
     ]
    }
   ],
   "source": [
    "print(tradingview_ta.__version__)"
   ]
  },
  {
   "cell_type": "code",
   "execution_count": 14,
   "id": "146b4ea4",
   "metadata": {},
   "outputs": [],
   "source": [
    "handler = TA_Handler(\n",
    "    symbol=\"ETHUSDT\",\n",
    "    exchange=\"binance\",\n",
    "    screener=\"crypto\",\n",
    "    interval=\"15m\"\n",
    ")"
   ]
  },
  {
   "cell_type": "code",
   "execution_count": 15,
   "id": "9ed09ff4",
   "metadata": {},
   "outputs": [
    {
     "name": "stdout",
     "output_type": "stream",
     "text": [
      "{'RECOMMENDATION': 'NEUTRAL', 'BUY': 1, 'SELL': 2, 'NEUTRAL': 8, 'COMPUTE': {'RSI': 'NEUTRAL', 'STOCH.K': 'NEUTRAL', 'CCI': 'NEUTRAL', 'ADX': 'NEUTRAL', 'AO': 'NEUTRAL', 'Mom': 'SELL', 'MACD': 'BUY', 'Stoch.RSI': 'NEUTRAL', 'W%R': 'SELL', 'BBP': 'NEUTRAL', 'UO': 'NEUTRAL'}}\n"
     ]
    }
   ],
   "source": [
    "print(handler.get_analysis().oscillators)"
   ]
  },
  {
   "cell_type": "code",
   "execution_count": 16,
   "id": "52a75192",
   "metadata": {},
   "outputs": [
    {
     "name": "stdout",
     "output_type": "stream",
     "text": [
      "{'RECOMMENDATION': 'BUY', 'BUY': 10, 'SELL': 7, 'NEUTRAL': 9}\n"
     ]
    }
   ],
   "source": [
    "from tradingview_ta import TA_Handler, Interval, Exchange\n",
    "\n",
    "tesla = TA_Handler(\n",
    "    symbol=\"TSLA\",\n",
    "    screener=\"america\",\n",
    "    exchange=\"NASDAQ\",\n",
    "    interval=Interval.INTERVAL_1_DAY\n",
    ")\n",
    "print(tesla.get_analysis().summary)"
   ]
  }
 ],
 "metadata": {
  "kernelspec": {
   "display_name": "Python 3",
   "language": "python",
   "name": "python3"
  },
  "language_info": {
   "codemirror_mode": {
    "name": "ipython",
    "version": 3
   },
   "file_extension": ".py",
   "mimetype": "text/x-python",
   "name": "python",
   "nbconvert_exporter": "python",
   "pygments_lexer": "ipython3",
   "version": "3.8.11"
  }
 },
 "nbformat": 4,
 "nbformat_minor": 5
}
